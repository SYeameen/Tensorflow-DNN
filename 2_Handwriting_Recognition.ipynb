{
  "nbformat": 4,
  "nbformat_minor": 0,
  "metadata": {
    "colab": {
      "name": "2.Handwriting Recognition.ipynb",
      "provenance": [],
      "collapsed_sections": [],
      "authorship_tag": "ABX9TyO2XRbRrdrTPZlWpkj3ZwvG",
      "include_colab_link": true
    },
    "kernelspec": {
      "name": "python3",
      "display_name": "Python 3"
    },
    "language_info": {
      "name": "python"
    }
  },
  "cells": [
    {
      "cell_type": "markdown",
      "metadata": {
        "id": "view-in-github",
        "colab_type": "text"
      },
      "source": [
        "<a href=\"https://colab.research.google.com/github/SYeameen/Tensorflow-DNN/blob/master/2_Handwriting_Recognition.ipynb\" target=\"_parent\"><img src=\"https://colab.research.google.com/assets/colab-badge.svg\" alt=\"Open In Colab\"/></a>"
      ]
    },
    {
      "cell_type": "code",
      "metadata": {
        "id": "in6fZHkoM06B"
      },
      "source": [
        "import tensorflow as tf\n",
        "from tensorflow import keras\n",
        "\n",
        "class myCallback(tf.keras.callbacks.Callback):\n",
        "  def on_epoch_end(self, epoch, logs={}):\n",
        "    if(logs.get('acc')>0.99):\n",
        "       print(\"Reached 99% accuracy so cancelling training!\")\n",
        "       self.model.stop_training = True\n",
        "\n",
        "callbacks = myCallback()\n",
        "mnist = tf.keras.datasets.mnist\n",
        "(img_train, labels_train),(img_test, labels_test) = mnist.load_data()\n",
        "img_train = img_train / 255.0\n",
        "img_test = img_test / 255.0\n",
        "\n",
        "model = tf.keras.models.Sequential([\n",
        "                               tf.keras.layers.Flatten(input_shape = (28, 28)),\n",
        "                               tf.keras.layers.Dense(512, activation=tf.nn.relu),\n",
        "                               tf.keras.layers.Dense(10, activation=tf.nn.softmax),\n",
        "])\n",
        "\n",
        "model.compile(optimizer='adam', loss='sparse_categorical_crossentropy', metrics=['acc'])\n",
        "history = model.fit(img_train, labels_train, epochs=10, callbacks=[callbacks])\n",
        "\n",
        "\n"
      ],
      "execution_count": null,
      "outputs": []
    }
  ]
}
